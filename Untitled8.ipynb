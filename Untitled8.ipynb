{
  "nbformat": 4,
  "nbformat_minor": 0,
  "metadata": {
    "colab": {
      "provenance": [],
      "authorship_tag": "ABX9TyPhbH8kHNBUkaNXp4r50D1t",
      "include_colab_link": true
    },
    "kernelspec": {
      "name": "python3",
      "display_name": "Python 3"
    },
    "language_info": {
      "name": "python"
    }
  },
  "cells": [
    {
      "cell_type": "markdown",
      "metadata": {
        "id": "view-in-github",
        "colab_type": "text"
      },
      "source": [
        "<a href=\"https://colab.research.google.com/github/thomyhabesha/Portfolio/blob/main/Untitled8.ipynb\" target=\"_parent\"><img src=\"https://colab.research.google.com/assets/colab-badge.svg\" alt=\"Open In Colab\"/></a>"
      ]
    },
    {
      "cell_type": "code",
      "execution_count": 1,
      "metadata": {
        "id": "_Y6R8h-8Zys2"
      },
      "outputs": [],
      "source": [
        "import spacy"
      ]
    },
    {
      "cell_type": "code",
      "source": [
        "training_data = [\n",
        "\n",
        "\n",
        "    {\n",
        "        \"text\": \"ጤፍ በሌሎች የግብርና ግብዓት ምርቶች ላይ የተጨማሪ እሴት ታክስ ነፃ መሆናቸውን የሚወስነዉ መመሪያዉ ተግባራዊ መደረግ እንደጀመረ ካፒታል ጋዜጣ ዘግቧል። የገንዘብ ሚኒስቴር በአገር ውስጥ የሚመረቱ እና ከውጭ አገር የሚገቡ እቃዎች እንዲሁም በአገር ውስጥ የሚሰጡ አገልግሎቶች ከተጨማሪ እሴት ታክስ ነጻ መሆናቸውን አረጋግጧል። ከሰኔ 13 ቀን 2016 ዓ.ም. ጀምሮ ተግባራዊ መደረግ በተጀመረው በዚህ መመሪያ ዉስጥ የእህል እና ጥሬጥሬ ፣ የግብርና ምርቶች እና የበሰሉ ወይም የተዘጋጁ ምግቦች / መጠጦች ይገኙበታል ። በዚህ ከተጨማሪ እሴት ታክስ ነጻ የሚሆኑ  እቃዎችን ለመወሰን በወጣው  መመሪያ ዝቅተኛ ገቢ ያለው የህብረተሰብ ክፍል መሰረታዊ የሆኑ የምግብ አቅርቦቶችን ከተጨማሪ እሴት ታክስ ነጻ ሆኖ እንዲገዛ ማድረግ የወጪ ጫናውን በማርገብ ረገድ ጠቀሜታ አለው ተብሏል።  ከተጨማሪ እሴት ታክስ ነፃ ከተደረጉት መካከል ፦ ጤፍ፣ ስንዴ፣ ገብስ ፣ ማዳበሪያ ፣ የእንስሳት መድሃኒት እንዲሁም በካፒታል ሊዝ ስምምነት የሚቀርብ የካፒታል ዕቃዎች ይገኙበታል። በተያያዘ መረጃ፦ የጤፍ አረም እና የስንዴ አረም (here its not separet like የጤፍ then አረም or  የስንዴ then አረም its whole የጤፍ አረም ፤ የስንዴ አረም )  እና ፀረ ዋግ ኬሚካል ተጠቃሚ አርሶ አደሮች በበኩላቸው ፥ ኬሚካሉ በጤፍ እና በስንዴ ዙርያ የዘሩት ማሳ ውጤታማ እንዲሆን ማስቻሉን አንስተዋል።\",\n",
        "        \"entities\": [(0, 1, \"CROP\"), (260, 294, \"CROP\"),(523, 526, \"CROP\"), (528, 531, \"CROP\"), (612, 619 ,\"DISEASE\"), (623, 631 ,\"DISEASE\"), (674, 677 ,\"CROP\"), (681, 685 ,\"CROP\"),]\n",
        "    },\n",
        "\n",
        "    {\n",
        "        \"text\": \"የቅጠል ዝገት የሚከሰተው በፈንገስ ፑቺኒያ ትሪቲሲና-ሪኮንዲታ ሲሆን ይህም የስንዴ እፅዋትን ቅጠሎች ይጎዳል። ፈንገስ በፍጥነት ሊሰራጭ ይችላል፣ በተለይም በሞቃታማ እና እርጥበት የአየር ሁኔታ ውስጥ ብዙ ስንዴ አብቃይ በሆኑ የኢትዮጵያ ክልሎች የተለመደ ነው ለስንዴ አምራች ገበሬው ላይ ምርት ተጽእኖ አለው የስንዴ ቅጠል(whole) ዋግ ዘላቂ የመቋቋም አቅም ያላቸውን የስንዴ ዝርያዎችን ማልማት እና ማሰማራት በኢትዮጵያ ተመራማሪዎች እና የሰብሉ አራቢዎች ዋነኛ ትኩረት ነው።\",\n",
        "        \"entities\": [(0, 8, \"DISEASE\"), (16, 21, \"DISEASE\"),(47, 51, \"CROP\"), (128, 131, \"CROP\"),(162, 166, \"CROP\"), (69, 73 ,\"DISEASE\"), (193, 204 ,\"DISEASE\"),(269, 273, \"CROP\")]\n",
        "    },\n",
        "\n",
        "    {\n",
        "        \"text\": \"ቡና ወደ አውሮፓ ለመጀመርያ ጊዜ በ16ኛ ክፍለ ዘመን ያስገቡት ነጋዴዎች ከቬኒዝ ጣልያን ነበሩ። የቡና የስነ ፍጥረት ስሙ Coffea arabica (ኮፊ ኣራቢካ) ሲሆን የዚህ የኢትዮጵያ ቡና ዘር በጣዕሙ ጥሩነት የተነሳ በጣም ተወዳጅ ነው። ከዚህም ባለፈ ወተትን በቡና የተለምደ ነው፡፡ ለቡና ያለው አትኩሮት በኢትዮጵያ ትልቅ ነው፡፡ ይሁን እንጂ ከቡና ጋር ተያይዞ ሚከሰቱ ህመሞች አሉ\",\n",
        "        \"entities\": [(0, 2, \"CROP\"), (61, 64, \"CROP\"),(165, 168, \"CROP\"), (180, 183, \"CROP\"),(218, 221, \"CROP\")]\n",
        "    },\n",
        "\n",
        "    {\n",
        "        \"text\": \"በቆሎ ሮማይስጥ፦ Zea mays መጀመርያ በቅድመ-ታሪክ በመካከለኛ አሜሪካ የተደረጀ ከእህል አይነት ሚመደብ ነው። ከ1500 ዓም በኋላ ወደ ሌሎቹ አህጉራት ተስፋፋ። ኢትዮጵያ በበቆሎ ምርት ከምስራቅ አፍሪካ ሃገራት ቀዳሚ ስትሆን ቅንጣት ፍሬው ከስንዴ እጅግ ይበልጣል፡፡ በሥነ ሕይወት ጥናት ዘንድ የበቆሎ ቅርብ ዘመዶች ማሽላ እና ሸንኮራ ኣገዳ ናቸው። በቆሎ በአሰር (ፋይበር) የበለፀገ በመሆኑ ከበቆሎ መመገብ ብዙ ህክምና ይገኝበታል፤ ሕመም እንዲሁም የፊንጢጣ ካንሰር የመጋለጥ ዕድልን እንደሚቀንስ ተጠቁሟል፡፡ በአዲስ አበባ ከበቆሎ ንግድ ከተሰማሩት ብዙዎች እናቶች ናቸው\",\n",
        "        \"entities\":  [(0, 3, \"CROP\"), (53, 57, \"CROP\"),(110, 114, \"CROP\"), (153, 157, \"CROP\"),(187, 191, \"CROP\"), (201, 204 ,\"CROP\"), (249, 253 ,\"CROP\")]\n",
        "    },\n",
        "\n",
        "    {\n",
        "        \"text\": \"የጣና ሃይቅና ሌሎች ውሃ አካላት ልማትና ጥበቃ ኤጀንሲ እንደሚገልፀው ከሆነ በአሁኑ ወቅት በጣና ሀይቅ ላይ ያለው የእምቦጭ አረም መጠን 900 ሄክታር አካባቢን የሸፈነ ነው። ይህንን መጤ አረም ለማስወገድ ከፌደራል መንግሥት ጀምሮ የተለያዩ አካላት በገንዘብ፣ በቁሳቁስና በሙያ ርብርብ ያደረጉ ቢሆንም አሁንም ግን እምቦጭ ከመጥፋት ይልቅ እየተስፋፋ ይገኛል። በኢትዮጵያ ትልቁ የሆነው የጣና ሃይቅ በእምቦጭ አረም ሳቢያ በገጠመው ሥጋት ምክንያት የተሰባሰቡ ወጣቶች በጋራ አረሙ ላይ መዝመት ከጀመሩ እነሆ አምስተኛ ቀን አስቆጠሩ። እምቦጭን በሰው ኃይል በዘመቻ ከውኃው ላይ የማንሳቱ ጥረትም ሆነ በማሽን የሚደረገው ርብርብ ጊዜያዊ እፎይታ እንጂ ዘለቄታዊ መፍትሄ ሊሆን እንደማይችል የሚናገሩ የዘርፉ ባለሙያዎች ጥቂት አይደሉም። ባሇፉት ሁሇት አሰርት ዓመታት በርካታ እንዯአዲስ የተከሰቱ ወይም ቀድሞ የነበሩ ነገር ግን ስርጭታቸውን ያሰፉ የዕጽዋት ቫይረስ በሽታዎች ከፍተኛ የሰብል ምርት ብክነት በማድረስ በኢትዮጵያ ግብርና አለታዊ ተጽዕኖ እያዯረጉ ይገኛለ፡፡ ከነዚህም ውስጥ ዋና ዋና የሆኑት ስምንቱ በሽታዎች የበቆሎ አድርቆ ገዳይ፤ የስኳር ድንች አቀጫጭ የትምባሆ አናት ጨምዳጅ፤ የቲማትም ቅጠል ብጫ አድራጊ የጥራጥሬ አቀጫጭ፤ የባቄላ ብጫ ገዳይና አቀጫጭ፤ የእንሰት ቅጠል ስቲሪክና የጎመን ሞዛይክ ናቸው፡፡ እነዚህ ሁለም በሽታዎች ስኳር ድንች አቀጫጭ ጨምሮ በመስክ በተሇያዩ ነፍሳት ተባዮች አማካይነት የሚተላሇፉ ናቸው፡፡ የዱቄት ሻጋታ (Powdery mildew) ለስላሳ የሆኑ ነጭ ብናኝ የፈንገስ ስፖሮች በቅጠሉ ወለል ላይ እና ምቹ በሆኑ ሁኔታዎች ላይ እንዲሁም በጭንቅላቱ ላይ እና በምርቁ ላይ ይታያል። \",\n",
        "        \"entities\":   [(72,77, \"DISEASE\"), (118, 121, \"DISEASE\"),(197, 201, \"DISEASE\"), (255, 258, \"DISEASE\"),(249, 254, \"DISEASE\"), (295, 298, \"DISEASE\"),(332, 337, \"DISEASE\"), (649, 662 , \"DISEASE\"), (775, 787 , \"DISEASE\"), (833, 841, \"DISEASE\")]\n",
        "    },\n",
        "\n",
        "\n",
        "    {\n",
        "        \"text\": \"የፈንገስ ኢንፌክሽኖች ማንኛውንም ሰው ሊጎዱ እና በተለያዩ የሰውነት ክፍሎች ሊዳብሩ ይችላሉ፡፡ የምድርን ሰባት በመቶ የሚሸፍነው ሊቸንስ የተባለው የዕጸዋት ዝርያ የአየር ሁኔታን እንደሚተነብይ ይነገራል። ይህ ሊቸንስ የተባለው ዕጸዋት የሚፈጠረው ከፈንገስ እና አልጌ መዳቀል፡፡ለፈንገስ በሽታዎች የሚሆኑ የቤት ውስጥ መፍትሄዎች። የፈንገስ በሽታ በማ የፈንገስ በሽታ በማንኛውም የሰውነታችን ክፍል ሊከሰት ይችላል። ጭርት እና (ቆርቆሮ መሰል ነጭ መልክ ያለው በአናት ላይ የሚታይ) በፈንገስ የመመረዝ ውጤት ነው። ከእህል ዘር የሚመደበው ይህ ጤፍ በቀላሉ በተለያዩ የአካባቢ ሁኔታዎች ሊበቅል ይችላል፡፡ በሌላ መረጃ’ ፤ በዓለም ዙሪያ የስንዴ ሰብል አምራች በሆኑ አካባቢዎች ሁሉ የስንዴ ቅጠል ዋግ በሽታ ጥቃት ሊያደርስ ይችላል። በአለማችን ላይ ቁጥራቸው እጅግ የበዛ የአደገኛ፣ መጤና ወራሪ አረም ዝርያዎች አሉ፡፡  \",\n",
        "        \"entities\":  [(0, 5, \"DISEASE\"), (496, 499, \"DISEASE\"),(154, 159 , \"DISEASE\"), (425, 436  , \"DISEASE\"),(206, 211, \"DISEASE\"), (301, 306, \"DISEASE\"), ( 321, 325, \"CROP\")]\n",
        "    },\n",
        "\n",
        "\n",
        "    {\n",
        "        \"text\": \"አርሷደሩ ተጠቃሚ ነው ማለት ይቻላል ሲሉ የሲዳማ ክልል ቡና ፍራፍሬና ቅመማ ቅመም ባለስልጣን አስረዱ፡፡ የገብስ ቡና ሲጠፋ ገብስ ልክ እንደቡና እስኪያር ተቆልቶ፤ እንደቡና ተወቅጦ የሚፈላ ነው፡፡ በክልሉ ከ77 በላይ የቡና ምርት የሚሰበስቡ መሰረታዊ የህብረት ስራ ማኅበራት እንደሚገኙ አስቀምጠዋል። እነዚህ ማኅበራቱ ከአርሷደሩ ምርቱን ተቀብለው ለዩኒየኑ አቅርበው ዩኒየኑ ደግሞ ከቡና እስከውጪ ኤክስፖርት ያደርጋል ሲሉ ያስረዳሉ። የጣና ሃይቅና ሌሎች ውሃ አካላት ልማትና ጥበቃ ኤጀንሲ እንደገለፀው በአሁኑ ወቅት በጣና ሀይቅ ላይ ያለው እምቦጭ አረም መጠን 900 ሄክታር አካባቢን የሸፈነ ነው።ይህንን መጤ አረም ለማስወገድ ከፌደራል መንግሥት ጀምሮ የተለያዩ አካላት በገንዘብ፣ በቁሳቁስና በሙያ ርብርብ ያደረጉ ቢሆንም አሁንም ግን የእምቦጭ መጥፋት የውሃ ሽታ ሆኖ ቆይቷል\",\n",
        "        \"entities\":   [(78, 81, \"CROP\"), (71, 73, \"CROP\"),(239, 242, \"CROP\"), (339, 343, \"DISEASE\"),(383, 386, \"DISEASE\"), (462, 467 ,\"CROP\")]\n",
        "    },\n",
        "]\n"
      ],
      "metadata": {
        "id": "OM_pWlNcqFHY"
      },
      "execution_count": 44,
      "outputs": []
    },
    {
      "cell_type": "code",
      "source": [
        "train_data = [\n",
        "    (item[\"text\"], {\"entities\": item[\"entities\"]}) for item in training_data\n",
        "]"
      ],
      "metadata": {
        "id": "EyuohqLnqFR0"
      },
      "execution_count": 28,
      "outputs": []
    },
    {
      "cell_type": "code",
      "source": [
        "import spacy\n",
        "from spacy.training.example import Example\n",
        "from spacy.util import minibatch\n",
        "import random"
      ],
      "metadata": {
        "id": "qKkoXinrqFXw"
      },
      "execution_count": 29,
      "outputs": []
    },
    {
      "cell_type": "code",
      "source": [
        "nlp = spacy.blank(\"am\")  # Replace \"am\" with \"xx\" if your text is multilingual\n",
        "ner = nlp.add_pipe(\"ner\", last=True)"
      ],
      "metadata": {
        "id": "5F5KJGi7qKC0"
      },
      "execution_count": 30,
      "outputs": []
    },
    {
      "cell_type": "code",
      "source": [
        "for _, annotations in train_data:\n",
        "    for ent in annotations[\"entities\"]:\n",
        "        ner.add_label(ent[2])"
      ],
      "metadata": {
        "id": "ZZWA-rdsqKgd"
      },
      "execution_count": 31,
      "outputs": []
    },
    {
      "cell_type": "code",
      "source": [
        "from spacy.training import offsets_to_biluo_tags\n",
        "\n",
        "for item in train_data:\n",
        "    doc = nlp.make_doc(item[0])  # Create a Doc object\n",
        "    entities = item[1][\"entities\"]\n",
        "    try:\n",
        "        tags = offsets_to_biluo_tags(doc, entities)  # Check alignment\n",
        "    except Exception as e:\n",
        "        print(f\"Misaligned entities in text: {item[0]}\")\n",
        "        print(f\"Entities: {entities}\")\n",
        "        print(f\"Error: {e}\")\n"
      ],
      "metadata": {
        "id": "_fWsFv-wqKkh"
      },
      "execution_count": 32,
      "outputs": []
    },
    {
      "cell_type": "code",
      "source": [
        "!python -m spacy download xx_ent_wiki_sm"
      ],
      "metadata": {
        "colab": {
          "base_uri": "https://localhost:8080/"
        },
        "id": "N67d96UIqKnj",
        "outputId": "84e1d134-1bd7-46f8-9c68-2572936230c0"
      },
      "execution_count": 8,
      "outputs": [
        {
          "output_type": "stream",
          "name": "stdout",
          "text": [
            "Collecting xx-ent-wiki-sm==3.7.0\n",
            "  Downloading https://github.com/explosion/spacy-models/releases/download/xx_ent_wiki_sm-3.7.0/xx_ent_wiki_sm-3.7.0-py3-none-any.whl (11.1 MB)\n",
            "\u001b[2K     \u001b[90m━━━━━━━━━━━━━━━━━━━━━━━━━━━━━━━━━━━━━━━━\u001b[0m \u001b[32m11.1/11.1 MB\u001b[0m \u001b[31m57.7 MB/s\u001b[0m eta \u001b[36m0:00:00\u001b[0m\n",
            "\u001b[?25hRequirement already satisfied: spacy<3.8.0,>=3.7.0 in /usr/local/lib/python3.10/dist-packages (from xx-ent-wiki-sm==3.7.0) (3.7.5)\n",
            "Requirement already satisfied: spacy-legacy<3.1.0,>=3.0.11 in /usr/local/lib/python3.10/dist-packages (from spacy<3.8.0,>=3.7.0->xx-ent-wiki-sm==3.7.0) (3.0.12)\n",
            "Requirement already satisfied: spacy-loggers<2.0.0,>=1.0.0 in /usr/local/lib/python3.10/dist-packages (from spacy<3.8.0,>=3.7.0->xx-ent-wiki-sm==3.7.0) (1.0.5)\n",
            "Requirement already satisfied: murmurhash<1.1.0,>=0.28.0 in /usr/local/lib/python3.10/dist-packages (from spacy<3.8.0,>=3.7.0->xx-ent-wiki-sm==3.7.0) (1.0.10)\n",
            "Requirement already satisfied: cymem<2.1.0,>=2.0.2 in /usr/local/lib/python3.10/dist-packages (from spacy<3.8.0,>=3.7.0->xx-ent-wiki-sm==3.7.0) (2.0.8)\n",
            "Requirement already satisfied: preshed<3.1.0,>=3.0.2 in /usr/local/lib/python3.10/dist-packages (from spacy<3.8.0,>=3.7.0->xx-ent-wiki-sm==3.7.0) (3.0.9)\n",
            "Requirement already satisfied: thinc<8.3.0,>=8.2.2 in /usr/local/lib/python3.10/dist-packages (from spacy<3.8.0,>=3.7.0->xx-ent-wiki-sm==3.7.0) (8.2.5)\n",
            "Requirement already satisfied: wasabi<1.2.0,>=0.9.1 in /usr/local/lib/python3.10/dist-packages (from spacy<3.8.0,>=3.7.0->xx-ent-wiki-sm==3.7.0) (1.1.3)\n",
            "Requirement already satisfied: srsly<3.0.0,>=2.4.3 in /usr/local/lib/python3.10/dist-packages (from spacy<3.8.0,>=3.7.0->xx-ent-wiki-sm==3.7.0) (2.4.8)\n",
            "Requirement already satisfied: catalogue<2.1.0,>=2.0.6 in /usr/local/lib/python3.10/dist-packages (from spacy<3.8.0,>=3.7.0->xx-ent-wiki-sm==3.7.0) (2.0.10)\n",
            "Requirement already satisfied: weasel<0.5.0,>=0.1.0 in /usr/local/lib/python3.10/dist-packages (from spacy<3.8.0,>=3.7.0->xx-ent-wiki-sm==3.7.0) (0.4.1)\n",
            "Requirement already satisfied: typer<1.0.0,>=0.3.0 in /usr/local/lib/python3.10/dist-packages (from spacy<3.8.0,>=3.7.0->xx-ent-wiki-sm==3.7.0) (0.13.0)\n",
            "Requirement already satisfied: tqdm<5.0.0,>=4.38.0 in /usr/local/lib/python3.10/dist-packages (from spacy<3.8.0,>=3.7.0->xx-ent-wiki-sm==3.7.0) (4.66.6)\n",
            "Requirement already satisfied: requests<3.0.0,>=2.13.0 in /usr/local/lib/python3.10/dist-packages (from spacy<3.8.0,>=3.7.0->xx-ent-wiki-sm==3.7.0) (2.32.3)\n",
            "Requirement already satisfied: pydantic!=1.8,!=1.8.1,<3.0.0,>=1.7.4 in /usr/local/lib/python3.10/dist-packages (from spacy<3.8.0,>=3.7.0->xx-ent-wiki-sm==3.7.0) (2.9.2)\n",
            "Requirement already satisfied: jinja2 in /usr/local/lib/python3.10/dist-packages (from spacy<3.8.0,>=3.7.0->xx-ent-wiki-sm==3.7.0) (3.1.4)\n",
            "Requirement already satisfied: setuptools in /usr/local/lib/python3.10/dist-packages (from spacy<3.8.0,>=3.7.0->xx-ent-wiki-sm==3.7.0) (75.1.0)\n",
            "Requirement already satisfied: packaging>=20.0 in /usr/local/lib/python3.10/dist-packages (from spacy<3.8.0,>=3.7.0->xx-ent-wiki-sm==3.7.0) (24.2)\n",
            "Requirement already satisfied: langcodes<4.0.0,>=3.2.0 in /usr/local/lib/python3.10/dist-packages (from spacy<3.8.0,>=3.7.0->xx-ent-wiki-sm==3.7.0) (3.4.1)\n",
            "Requirement already satisfied: numpy>=1.19.0 in /usr/local/lib/python3.10/dist-packages (from spacy<3.8.0,>=3.7.0->xx-ent-wiki-sm==3.7.0) (1.26.4)\n",
            "Requirement already satisfied: language-data>=1.2 in /usr/local/lib/python3.10/dist-packages (from langcodes<4.0.0,>=3.2.0->spacy<3.8.0,>=3.7.0->xx-ent-wiki-sm==3.7.0) (1.2.0)\n",
            "Requirement already satisfied: annotated-types>=0.6.0 in /usr/local/lib/python3.10/dist-packages (from pydantic!=1.8,!=1.8.1,<3.0.0,>=1.7.4->spacy<3.8.0,>=3.7.0->xx-ent-wiki-sm==3.7.0) (0.7.0)\n",
            "Requirement already satisfied: pydantic-core==2.23.4 in /usr/local/lib/python3.10/dist-packages (from pydantic!=1.8,!=1.8.1,<3.0.0,>=1.7.4->spacy<3.8.0,>=3.7.0->xx-ent-wiki-sm==3.7.0) (2.23.4)\n",
            "Requirement already satisfied: typing-extensions>=4.6.1 in /usr/local/lib/python3.10/dist-packages (from pydantic!=1.8,!=1.8.1,<3.0.0,>=1.7.4->spacy<3.8.0,>=3.7.0->xx-ent-wiki-sm==3.7.0) (4.12.2)\n",
            "Requirement already satisfied: charset-normalizer<4,>=2 in /usr/local/lib/python3.10/dist-packages (from requests<3.0.0,>=2.13.0->spacy<3.8.0,>=3.7.0->xx-ent-wiki-sm==3.7.0) (3.4.0)\n",
            "Requirement already satisfied: idna<4,>=2.5 in /usr/local/lib/python3.10/dist-packages (from requests<3.0.0,>=2.13.0->spacy<3.8.0,>=3.7.0->xx-ent-wiki-sm==3.7.0) (3.10)\n",
            "Requirement already satisfied: urllib3<3,>=1.21.1 in /usr/local/lib/python3.10/dist-packages (from requests<3.0.0,>=2.13.0->spacy<3.8.0,>=3.7.0->xx-ent-wiki-sm==3.7.0) (2.2.3)\n",
            "Requirement already satisfied: certifi>=2017.4.17 in /usr/local/lib/python3.10/dist-packages (from requests<3.0.0,>=2.13.0->spacy<3.8.0,>=3.7.0->xx-ent-wiki-sm==3.7.0) (2024.8.30)\n",
            "Requirement already satisfied: blis<0.8.0,>=0.7.8 in /usr/local/lib/python3.10/dist-packages (from thinc<8.3.0,>=8.2.2->spacy<3.8.0,>=3.7.0->xx-ent-wiki-sm==3.7.0) (0.7.11)\n",
            "Requirement already satisfied: confection<1.0.0,>=0.0.1 in /usr/local/lib/python3.10/dist-packages (from thinc<8.3.0,>=8.2.2->spacy<3.8.0,>=3.7.0->xx-ent-wiki-sm==3.7.0) (0.1.5)\n",
            "Requirement already satisfied: click>=8.0.0 in /usr/local/lib/python3.10/dist-packages (from typer<1.0.0,>=0.3.0->spacy<3.8.0,>=3.7.0->xx-ent-wiki-sm==3.7.0) (8.1.7)\n",
            "Requirement already satisfied: shellingham>=1.3.0 in /usr/local/lib/python3.10/dist-packages (from typer<1.0.0,>=0.3.0->spacy<3.8.0,>=3.7.0->xx-ent-wiki-sm==3.7.0) (1.5.4)\n",
            "Requirement already satisfied: rich>=10.11.0 in /usr/local/lib/python3.10/dist-packages (from typer<1.0.0,>=0.3.0->spacy<3.8.0,>=3.7.0->xx-ent-wiki-sm==3.7.0) (13.9.4)\n",
            "Requirement already satisfied: cloudpathlib<1.0.0,>=0.7.0 in /usr/local/lib/python3.10/dist-packages (from weasel<0.5.0,>=0.1.0->spacy<3.8.0,>=3.7.0->xx-ent-wiki-sm==3.7.0) (0.20.0)\n",
            "Requirement already satisfied: smart-open<8.0.0,>=5.2.1 in /usr/local/lib/python3.10/dist-packages (from weasel<0.5.0,>=0.1.0->spacy<3.8.0,>=3.7.0->xx-ent-wiki-sm==3.7.0) (7.0.5)\n",
            "Requirement already satisfied: MarkupSafe>=2.0 in /usr/local/lib/python3.10/dist-packages (from jinja2->spacy<3.8.0,>=3.7.0->xx-ent-wiki-sm==3.7.0) (3.0.2)\n",
            "Requirement already satisfied: marisa-trie>=0.7.7 in /usr/local/lib/python3.10/dist-packages (from language-data>=1.2->langcodes<4.0.0,>=3.2.0->spacy<3.8.0,>=3.7.0->xx-ent-wiki-sm==3.7.0) (1.2.1)\n",
            "Requirement already satisfied: markdown-it-py>=2.2.0 in /usr/local/lib/python3.10/dist-packages (from rich>=10.11.0->typer<1.0.0,>=0.3.0->spacy<3.8.0,>=3.7.0->xx-ent-wiki-sm==3.7.0) (3.0.0)\n",
            "Requirement already satisfied: pygments<3.0.0,>=2.13.0 in /usr/local/lib/python3.10/dist-packages (from rich>=10.11.0->typer<1.0.0,>=0.3.0->spacy<3.8.0,>=3.7.0->xx-ent-wiki-sm==3.7.0) (2.18.0)\n",
            "Requirement already satisfied: wrapt in /usr/local/lib/python3.10/dist-packages (from smart-open<8.0.0,>=5.2.1->weasel<0.5.0,>=0.1.0->spacy<3.8.0,>=3.7.0->xx-ent-wiki-sm==3.7.0) (1.16.0)\n",
            "Requirement already satisfied: mdurl~=0.1 in /usr/local/lib/python3.10/dist-packages (from markdown-it-py>=2.2.0->rich>=10.11.0->typer<1.0.0,>=0.3.0->spacy<3.8.0,>=3.7.0->xx-ent-wiki-sm==3.7.0) (0.1.2)\n",
            "Installing collected packages: xx-ent-wiki-sm\n",
            "Successfully installed xx-ent-wiki-sm-3.7.0\n",
            "\u001b[38;5;2m✔ Download and installation successful\u001b[0m\n",
            "You can now load the package via spacy.load('xx_ent_wiki_sm')\n",
            "\u001b[38;5;3m⚠ Restart to reload dependencies\u001b[0m\n",
            "If you are in a Jupyter or Colab notebook, you may need to restart Python in\n",
            "order to load all the package's dependencies. You can do this by selecting the\n",
            "'Restart kernel' or 'Restart runtime' option.\n"
          ]
        }
      ]
    },
    {
      "cell_type": "code",
      "source": [
        "cleaned_data = []\n",
        "\n",
        "for item in train_data:\n",
        "    text = item[0]\n",
        "    entities = item[1][\"entities\"]\n",
        "    valid_entities = []\n",
        "\n",
        "    for start, end, label in entities:\n",
        "        if start < len(text) and end <= len(text):  # Ensure indices are within bounds\n",
        "            if text[start:end] == text[start:end].strip():  # Check alignment\n",
        "                valid_entities.append((start, end, label))\n",
        "            else:\n",
        "                print(f\"Misaligned entity: '{text[start:end]}' in text: '{text}'\")\n",
        "        else:\n",
        "            print(f\"Entity indices out of range: '{start}-{end}' for text: '{text}'\")\n",
        "\n",
        "    cleaned_data.append((text, {\"entities\": valid_entities}))\n",
        "\n",
        "train_data = cleaned_data\n"
      ],
      "metadata": {
        "colab": {
          "base_uri": "https://localhost:8080/"
        },
        "id": "PyJZVFtSqKrR",
        "outputId": "af14e2c9-26a4-4011-c0c6-6a1878ff5be8"
      },
      "execution_count": 33,
      "outputs": [
        {
          "output_type": "stream",
          "name": "stdout",
          "text": [
            "Misaligned entity: 'የእህል እና ጥሬጥሬ ፣ የግብርና ምርቶች እና የበሰሉ ' in text: 'ጤፍ በሌሎች የግብርና ግብዓት ምርቶች ላይ የተጨማሪ እሴት ታክስ ነፃ መሆናቸውን የሚወስነዉ መመሪያዉ ተግባራዊ መደረግ እንደጀመረ ካፒታል ጋዜጣ ዘግቧል። የገንዘብ ሚኒስቴር በአገር ውስጥ የሚመረቱ እና ከውጭ አገር የሚገቡ እቃዎች እንዲሁም በአገር ውስጥ የሚሰጡ አገልግሎቶች ከተጨማሪ እሴት ታክስ ነጻ መሆናቸውን አረጋግጧል። ከሰኔ 13 ቀን 2016 ዓ.ም. ጀምሮ ተግባራዊ መደረግ በተጀመረው በዚህ መመሪያ ዉስጥ የእህል እና ጥሬጥሬ ፣ የግብርና ምርቶች እና የበሰሉ ወይም የተዘጋጁ ምግቦች / መጠጦች ይገኙበታል ። በዚህ ከተጨማሪ እሴት ታክስ ነጻ የሚሆኑ  እቃዎችን ለመወሰን በወጣው  መመሪያ ዝቅተኛ ገቢ ያለው የህብረተሰብ ክፍል መሰረታዊ የሆኑ የምግብ አቅርቦቶችን ከተጨማሪ እሴት ታክስ ነጻ ሆኖ እንዲገዛ ማድረግ የወጪ ጫናውን በማርገብ ረገድ ጠቀሜታ አለው ተብሏል።  ከተጨማሪ እሴት ታክስ ነፃ ከተደረጉት መካከል ፦ ጤፍ፣ ስንዴ፣ ገብስ ፣ ማዳበሪያ ፣ የእንስሳት መድሃኒት እንዲሁም በካፒታል ሊዝ ስምምነት የሚቀርብ የካፒታል ዕቃዎች ይገኙበታል። በተያያዘ መረጃ፦ የጤፍ አረም እና የስንዴ አረም (here its not separet like የጤፍ then አረም or  የስንዴ then አረም its whole የጤፍ አረም ፤ የስንዴ አረም )  እና ፀረ ዋግ ኬሚካል ተጠቃሚ አርሶ አደሮች በበኩላቸው ፥ ኬሚካሉ በጤፍ እና በስንዴ ዙርያ የዘሩት ማሳ ውጤታማ እንዲሆን ማስቻሉን አንስተዋል።'\n",
            "Misaligned entity: '  የ' in text: 'ጤፍ በሌሎች የግብርና ግብዓት ምርቶች ላይ የተጨማሪ እሴት ታክስ ነፃ መሆናቸውን የሚወስነዉ መመሪያዉ ተግባራዊ መደረግ እንደጀመረ ካፒታል ጋዜጣ ዘግቧል። የገንዘብ ሚኒስቴር በአገር ውስጥ የሚመረቱ እና ከውጭ አገር የሚገቡ እቃዎች እንዲሁም በአገር ውስጥ የሚሰጡ አገልግሎቶች ከተጨማሪ እሴት ታክስ ነጻ መሆናቸውን አረጋግጧል። ከሰኔ 13 ቀን 2016 ዓ.ም. ጀምሮ ተግባራዊ መደረግ በተጀመረው በዚህ መመሪያ ዉስጥ የእህል እና ጥሬጥሬ ፣ የግብርና ምርቶች እና የበሰሉ ወይም የተዘጋጁ ምግቦች / መጠጦች ይገኙበታል ። በዚህ ከተጨማሪ እሴት ታክስ ነጻ የሚሆኑ  እቃዎችን ለመወሰን በወጣው  መመሪያ ዝቅተኛ ገቢ ያለው የህብረተሰብ ክፍል መሰረታዊ የሆኑ የምግብ አቅርቦቶችን ከተጨማሪ እሴት ታክስ ነጻ ሆኖ እንዲገዛ ማድረግ የወጪ ጫናውን በማርገብ ረገድ ጠቀሜታ አለው ተብሏል።  ከተጨማሪ እሴት ታክስ ነፃ ከተደረጉት መካከል ፦ ጤፍ፣ ስንዴ፣ ገብስ ፣ ማዳበሪያ ፣ የእንስሳት መድሃኒት እንዲሁም በካፒታል ሊዝ ስምምነት የሚቀርብ የካፒታል ዕቃዎች ይገኙበታል። በተያያዘ መረጃ፦ የጤፍ አረም እና የስንዴ አረም (here its not separet like የጤፍ then አረም or  የስንዴ then አረም its whole የጤፍ አረም ፤ የስንዴ አረም )  እና ፀረ ዋግ ኬሚካል ተጠቃሚ አርሶ አደሮች በበኩላቸው ፥ ኬሚካሉ በጤፍ እና በስንዴ ዙርያ የዘሩት ማሳ ውጤታማ እንዲሆን ማስቻሉን አንስተዋል።'\n",
            "Misaligned entity: 'ሪዎች ' in text: 'የቅጠል ዝገት የሚከሰተው በፈንገስ ፑቺኒያ ትሪቲሲና-ሪኮንዲታ ሲሆን ይህም የስንዴ እፅዋትን ቅጠሎች ይጎዳል። ፈንገስ በፍጥነት ሊሰራጭ ይችላል፣ በተለይም በሞቃታማ እና እርጥበት የአየር ሁኔታ ውስጥ ብዙ ስንዴ አብቃይ በሆኑ የኢትዮጵያ ክልሎች የተለመደ ነው ለስንዴ አምራች ገበሬው ላይ ምርት ተጽእኖ አለው የስንዴ ቅጠል(whole) ዋግ ዘላቂ የመቋቋም አቅም ያላቸውን የስንዴ ዝርያዎችን ማልማት እና ማሰማራት በኢትዮጵያ ተመራማሪዎች እና የሰብሉ አራቢዎች ዋነኛ ትኩረት ነው።'\n"
          ]
        }
      ]
    },
    {
      "cell_type": "code",
      "source": [
        "nlp.begin_training()\n",
        "for epoch in range(10):\n",
        "    random.shuffle(train_data)\n",
        "    losses = {}\n",
        "    for batch in minibatch(train_data, size=8):\n",
        "        for text, annotations in batch:\n",
        "            example = Example.from_dict(nlp.make_doc(text), annotations)\n",
        "            nlp.update([example], losses=losses)\n",
        "    print(f\"Losses at epoch {epoch}: {losses}\")\n"
      ],
      "metadata": {
        "colab": {
          "base_uri": "https://localhost:8080/"
        },
        "id": "yH6F27XmqKvM",
        "outputId": "3b6c9c4e-ae03-4e53-9b6f-44d2bb990ac8"
      },
      "execution_count": 34,
      "outputs": [
        {
          "output_type": "stream",
          "name": "stdout",
          "text": [
            "Losses at epoch 0: {'ner': 605.4250644817948}\n",
            "Losses at epoch 1: {'ner': 150.97323466787861}\n",
            "Losses at epoch 2: {'ner': 80.60907960222448}\n",
            "Losses at epoch 3: {'ner': 118.75085627144745}\n",
            "Losses at epoch 4: {'ner': 48.186745597660945}\n",
            "Losses at epoch 5: {'ner': 70.10503643654118}\n",
            "Losses at epoch 6: {'ner': 27.01369238302855}\n",
            "Losses at epoch 7: {'ner': 18.347912549075623}\n",
            "Losses at epoch 8: {'ner': 17.521717754474967}\n",
            "Losses at epoch 9: {'ner': 8.68755483369664}\n"
          ]
        }
      ]
    },
    {
      "cell_type": "code",
      "source": [
        "# Input text\n",
        "doc = nlp(\"ቡና ወደ አውሮፓ ለመጀመርያ ጊዜ በ16ኛ ክፍለ ዘመን ያስገቡት ነጋዴዎች ከቬኒዝ ጣልያን ነበሩ። የቡና የስነ ፍጥረት ስሙ Coffea arabica (ኮፊ ኣራቢካ) ሲሆን የዚህ የኢትዮጵያ ቡና ዘር በጣዕሙ ጥሩነት የተነሳ በጣም ተወዳጅ ነው። ከዚህም ባለፈ ወተትን በቡና የተለምደ ነው፡፡ ለቡና ያለው አትኩሮት በኢትዮጵያ ትልቅ ነው፡፡ ይሁን እንጂ ከቡና ጋር ተያይዞ ሚከሰቱ ህመሞች አሉ\")\n",
        "\n",
        "# Iterate over entities and print text, label, and start and end positions\n",
        "for ent in doc.ents:\n",
        "    print(f\"Text: {ent.text}\")\n",
        "    print(f\"Label: {ent.label_}\")\n",
        "    print(f\"Start: {ent.start_char}\")\n",
        "    print(f\"End: {ent.end_char}\")\n",
        "    print(\"-\" * 50)\n"
      ],
      "metadata": {
        "colab": {
          "base_uri": "https://localhost:8080/"
        },
        "id": "BTgG4-f-qdmM",
        "outputId": "0b7b3456-8fa4-4c11-80dc-203657c8478b"
      },
      "execution_count": 35,
      "outputs": [
        {
          "output_type": "stream",
          "name": "stdout",
          "text": [
            "Text: ቡና\n",
            "Label: CROP\n",
            "Start: 0\n",
            "End: 2\n",
            "--------------------------------------------------\n",
            "Text: የቡና\n",
            "Label: CROP\n",
            "Start: 61\n",
            "End: 64\n",
            "--------------------------------------------------\n",
            "Text: በቡና\n",
            "Label: CROP\n",
            "Start: 165\n",
            "End: 168\n",
            "--------------------------------------------------\n",
            "Text: ለቡና\n",
            "Label: CROP\n",
            "Start: 180\n",
            "End: 183\n",
            "--------------------------------------------------\n",
            "Text: ከቡና\n",
            "Label: CROP\n",
            "Start: 218\n",
            "End: 221\n",
            "--------------------------------------------------\n"
          ]
        }
      ]
    },
    {
      "cell_type": "code",
      "source": [
        "!pip install flask flask-cors"
      ],
      "metadata": {
        "colab": {
          "base_uri": "https://localhost:8080/"
        },
        "id": "NOn43ViAqdux",
        "outputId": "a97dcdea-6e18-4d0d-9381-cfb14e0212ca"
      },
      "execution_count": 12,
      "outputs": [
        {
          "output_type": "stream",
          "name": "stdout",
          "text": [
            "Requirement already satisfied: flask in /usr/local/lib/python3.10/dist-packages (3.0.3)\n",
            "Collecting flask-cors\n",
            "  Downloading Flask_Cors-5.0.0-py2.py3-none-any.whl.metadata (5.5 kB)\n",
            "Requirement already satisfied: Werkzeug>=3.0.0 in /usr/local/lib/python3.10/dist-packages (from flask) (3.1.3)\n",
            "Requirement already satisfied: Jinja2>=3.1.2 in /usr/local/lib/python3.10/dist-packages (from flask) (3.1.4)\n",
            "Requirement already satisfied: itsdangerous>=2.1.2 in /usr/local/lib/python3.10/dist-packages (from flask) (2.2.0)\n",
            "Requirement already satisfied: click>=8.1.3 in /usr/local/lib/python3.10/dist-packages (from flask) (8.1.7)\n",
            "Requirement already satisfied: blinker>=1.6.2 in /usr/local/lib/python3.10/dist-packages (from flask) (1.9.0)\n",
            "Requirement already satisfied: MarkupSafe>=2.0 in /usr/local/lib/python3.10/dist-packages (from Jinja2>=3.1.2->flask) (3.0.2)\n",
            "Downloading Flask_Cors-5.0.0-py2.py3-none-any.whl (14 kB)\n",
            "Installing collected packages: flask-cors\n",
            "Successfully installed flask-cors-5.0.0\n"
          ]
        }
      ]
    },
    {
      "cell_type": "code",
      "source": [
        "!pip install flask-ngrok\n"
      ],
      "metadata": {
        "colab": {
          "base_uri": "https://localhost:8080/"
        },
        "id": "ZHgplUtpqd3S",
        "outputId": "5ed1e74a-2df8-4351-8b5f-8aa65cbf7a86"
      },
      "execution_count": 18,
      "outputs": [
        {
          "output_type": "stream",
          "name": "stdout",
          "text": [
            "Requirement already satisfied: flask-ngrok in /usr/local/lib/python3.10/dist-packages (0.0.25)\n",
            "Requirement already satisfied: Flask>=0.8 in /usr/local/lib/python3.10/dist-packages (from flask-ngrok) (3.0.3)\n",
            "Requirement already satisfied: requests in /usr/local/lib/python3.10/dist-packages (from flask-ngrok) (2.32.3)\n",
            "Requirement already satisfied: Werkzeug>=3.0.0 in /usr/local/lib/python3.10/dist-packages (from Flask>=0.8->flask-ngrok) (3.1.3)\n",
            "Requirement already satisfied: Jinja2>=3.1.2 in /usr/local/lib/python3.10/dist-packages (from Flask>=0.8->flask-ngrok) (3.1.4)\n",
            "Requirement already satisfied: itsdangerous>=2.1.2 in /usr/local/lib/python3.10/dist-packages (from Flask>=0.8->flask-ngrok) (2.2.0)\n",
            "Requirement already satisfied: click>=8.1.3 in /usr/local/lib/python3.10/dist-packages (from Flask>=0.8->flask-ngrok) (8.1.7)\n",
            "Requirement already satisfied: blinker>=1.6.2 in /usr/local/lib/python3.10/dist-packages (from Flask>=0.8->flask-ngrok) (1.9.0)\n",
            "Requirement already satisfied: charset-normalizer<4,>=2 in /usr/local/lib/python3.10/dist-packages (from requests->flask-ngrok) (3.4.0)\n",
            "Requirement already satisfied: idna<4,>=2.5 in /usr/local/lib/python3.10/dist-packages (from requests->flask-ngrok) (3.10)\n",
            "Requirement already satisfied: urllib3<3,>=1.21.1 in /usr/local/lib/python3.10/dist-packages (from requests->flask-ngrok) (2.2.3)\n",
            "Requirement already satisfied: certifi>=2017.4.17 in /usr/local/lib/python3.10/dist-packages (from requests->flask-ngrok) (2024.8.30)\n",
            "Requirement already satisfied: MarkupSafe>=2.0 in /usr/local/lib/python3.10/dist-packages (from Jinja2>=3.1.2->Flask>=0.8->flask-ngrok) (3.0.2)\n"
          ]
        }
      ]
    },
    {
      "cell_type": "markdown",
      "source": [],
      "metadata": {
        "id": "e1diL8Vjqpth"
      }
    },
    {
      "cell_type": "markdown",
      "source": [],
      "metadata": {
        "id": "1gGY187eqp0t"
      }
    },
    {
      "cell_type": "markdown",
      "source": [],
      "metadata": {
        "id": "kj7AMYgRqqBp"
      }
    },
    {
      "cell_type": "code",
      "source": [
        "nlp.to_disk(r\"C:\\Users\\Thomas\\Desktop\\learnin15\")\n"
      ],
      "metadata": {
        "id": "3xUhlmSmtwir"
      },
      "execution_count": 36,
      "outputs": []
    },
    {
      "cell_type": "code",
      "source": [
        "import shutil\n",
        "\n",
        "# Save the model to a directory in the Colab environment\n",
        "model_path = \"/content/C:\\\\Users\\\\Thomas\\\\Desktop\\\\learning15\"\n",
        "nlp.to_disk(model_path)\n",
        "\n",
        "# Create a zip file of the saved model directory\n",
        "shutil.make_archive(model_path, 'zip', model_path)\n",
        "\n",
        "# Provide a download link\n",
        "from google.colab import files\n",
        "files.download(f\"{model_path}.zip\")\n"
      ],
      "metadata": {
        "colab": {
          "base_uri": "https://localhost:8080/",
          "height": 17
        },
        "id": "JC-M9iEgtyMB",
        "outputId": "fddcc9ec-1ad6-406a-f299-69adf379a4d3"
      },
      "execution_count": 38,
      "outputs": [
        {
          "output_type": "display_data",
          "data": {
            "text/plain": [
              "<IPython.core.display.Javascript object>"
            ],
            "application/javascript": [
              "\n",
              "    async function download(id, filename, size) {\n",
              "      if (!google.colab.kernel.accessAllowed) {\n",
              "        return;\n",
              "      }\n",
              "      const div = document.createElement('div');\n",
              "      const label = document.createElement('label');\n",
              "      label.textContent = `Downloading \"${filename}\": `;\n",
              "      div.appendChild(label);\n",
              "      const progress = document.createElement('progress');\n",
              "      progress.max = size;\n",
              "      div.appendChild(progress);\n",
              "      document.body.appendChild(div);\n",
              "\n",
              "      const buffers = [];\n",
              "      let downloaded = 0;\n",
              "\n",
              "      const channel = await google.colab.kernel.comms.open(id);\n",
              "      // Send a message to notify the kernel that we're ready.\n",
              "      channel.send({})\n",
              "\n",
              "      for await (const message of channel.messages) {\n",
              "        // Send a message to notify the kernel that we're ready.\n",
              "        channel.send({})\n",
              "        if (message.buffers) {\n",
              "          for (const buffer of message.buffers) {\n",
              "            buffers.push(buffer);\n",
              "            downloaded += buffer.byteLength;\n",
              "            progress.value = downloaded;\n",
              "          }\n",
              "        }\n",
              "      }\n",
              "      const blob = new Blob(buffers, {type: 'application/binary'});\n",
              "      const a = document.createElement('a');\n",
              "      a.href = window.URL.createObjectURL(blob);\n",
              "      a.download = filename;\n",
              "      div.appendChild(a);\n",
              "      a.click();\n",
              "      div.remove();\n",
              "    }\n",
              "  "
            ]
          },
          "metadata": {}
        },
        {
          "output_type": "display_data",
          "data": {
            "text/plain": [
              "<IPython.core.display.Javascript object>"
            ],
            "application/javascript": [
              "download(\"download_56dfd8f9-96a8-4dec-b3f5-c3bbef17d79b\", \"C:\\\\Users\\\\Thomas\\\\Desktop\\\\learning15.zip\", 3537477)"
            ]
          },
          "metadata": {}
        }
      ]
    },
    {
      "cell_type": "code",
      "source": [
        "nlp = spacy.load(\"/content/C:\\\\Users\\\\Thomas\\\\Desktop\\\\learning15\")"
      ],
      "metadata": {
        "id": "ew6wuvEHtyRT"
      },
      "execution_count": 39,
      "outputs": []
    },
    {
      "cell_type": "code",
      "source": [
        "# Input text\n",
        "doc = nlp(\"ቡና ወደ አውሮፓ ለመጀመርያ ጊዜ በ16ኛ ክፍለ ዘመን ያስገቡት ነጋዴዎች ከቬኒዝ ጣልያን ነበሩ። የቡና የስነ ፍጥረት ስሙ Coffea arabica (ኮፊ ኣራቢካ) ሲሆን የዚህ የኢትዮጵያ ቡና ዘር በጣዕሙ ጥሩነት የተነሳ በጣም ተወዳጅ ነው። ከዚህም ባለፈ ወተትን በቡና የተለምደ ነው፡፡ ለቡና ያለው አትኩሮት በኢትዮጵያ ትልቅ ነው፡፡ ይሁን እንጂ ከቡና ጋር ተያይዞ ሚከሰቱ ህመሞች አሉ\")\n",
        "\n",
        "# Iterate over entities and print text, label, and start and end positions\n",
        "for ent in doc.ents:\n",
        "    print(f\"Text: {ent.text}\")\n",
        "    print(f\"Label: {ent.label_}\")\n",
        "    print(f\"Start: {ent.start_char}\")\n",
        "    print(f\"End: {ent.end_char}\")\n",
        "    print(\"-\" * 50)\n"
      ],
      "metadata": {
        "colab": {
          "base_uri": "https://localhost:8080/"
        },
        "id": "7H3azfj2tyX2",
        "outputId": "2233ecd2-5a8a-4014-eac8-4054ec75ab0b"
      },
      "execution_count": 40,
      "outputs": [
        {
          "output_type": "stream",
          "name": "stdout",
          "text": [
            "Text: ቡና\n",
            "Label: CROP\n",
            "Start: 0\n",
            "End: 2\n",
            "--------------------------------------------------\n",
            "Text: የቡና\n",
            "Label: CROP\n",
            "Start: 61\n",
            "End: 64\n",
            "--------------------------------------------------\n",
            "Text: በቡና\n",
            "Label: CROP\n",
            "Start: 165\n",
            "End: 168\n",
            "--------------------------------------------------\n",
            "Text: ለቡና\n",
            "Label: CROP\n",
            "Start: 180\n",
            "End: 183\n",
            "--------------------------------------------------\n",
            "Text: ከቡና\n",
            "Label: CROP\n",
            "Start: 218\n",
            "End: 221\n",
            "--------------------------------------------------\n"
          ]
        }
      ]
    },
    {
      "cell_type": "code",
      "source": [
        "!ngrok authtoken 2h2F5ZX1RcFuI9Bjycuh53jv7nR_3Zz1PSK685griAxgphMoU\n"
      ],
      "metadata": {
        "colab": {
          "base_uri": "https://localhost:8080/"
        },
        "id": "3AwA17tBqd_P",
        "outputId": "445bd30c-5d76-4d2c-b5cd-ac7ffcb8e53d"
      },
      "execution_count": 24,
      "outputs": [
        {
          "output_type": "stream",
          "name": "stdout",
          "text": [
            "Authtoken saved to configuration file: /root/.config/ngrok/ngrok.yml\n"
          ]
        }
      ]
    },
    {
      "cell_type": "code",
      "source": [
        "from flask import Flask, request, jsonify\n",
        "from pyngrok import ngrok\n",
        "import spacy\n",
        "\n",
        "# Initialize Flask app\n",
        "app = Flask(__name__)\n",
        "\n",
        "# Load SpaCy language model\n",
        "nlp = spacy.load(\"/content/C:\\\\Users\\\\Thomas\\\\Desktop\\\\learning15\")  # Load pre-trained model for English\n",
        "\n",
        "@app.route(\"/\", methods=[\"GET\", \"POST\"])\n",
        "def home():\n",
        "    if request.method == \"POST\":\n",
        "        # Get the text from the POST request\n",
        "        data = request.json\n",
        "        text = data.get(\"text\", \"\")\n",
        "\n",
        "        # Process the text with SpaCy model for NER\n",
        "        doc = nlp(text)\n",
        "        entities = [{\"text\": ent.text, \"start\": ent.start_char, \"end\": ent.end_char, \"label\": ent.label_} for ent in doc.ents]\n",
        "\n",
        "        # Return the entities as JSON response\n",
        "        return jsonify({\"text\": text, \"entities\": entities})\n",
        "\n",
        "    return \"Hello, this is your Colab Flask app!\"\n",
        "\n",
        "# Start Ngrok tunnel\n",
        "public_url = ngrok.connect(5000)\n",
        "print(f\"Public URL: {public_url}\")\n",
        "\n",
        "# Run the Flask app\n",
        "app.run(port=5000)\n"
      ],
      "metadata": {
        "colab": {
          "base_uri": "https://localhost:8080/"
        },
        "id": "FWyHxMJpqeHD",
        "outputId": "e3dd7b38-07b0-4f50-fa8d-0336e66f61eb"
      },
      "execution_count": 43,
      "outputs": [
        {
          "output_type": "stream",
          "name": "stdout",
          "text": [
            "Public URL: NgrokTunnel: \"https://848f-35-199-34-105.ngrok-free.app\" -> \"http://localhost:5000\"\n",
            " * Serving Flask app '__main__'\n",
            " * Debug mode: off\n"
          ]
        },
        {
          "output_type": "stream",
          "name": "stderr",
          "text": [
            "INFO:werkzeug:\u001b[31m\u001b[1mWARNING: This is a development server. Do not use it in a production deployment. Use a production WSGI server instead.\u001b[0m\n",
            " * Running on http://127.0.0.1:5000\n",
            "INFO:werkzeug:\u001b[33mPress CTRL+C to quit\u001b[0m\n",
            "INFO:werkzeug:127.0.0.1 - - [24/Nov/2024 06:01:57] \"POST / HTTP/1.1\" 200 -\n"
          ]
        }
      ]
    },
    {
      "cell_type": "code",
      "source": [],
      "metadata": {
        "id": "TZJoy-L4qeOp"
      },
      "execution_count": null,
      "outputs": []
    },
    {
      "cell_type": "code",
      "source": [],
      "metadata": {
        "id": "d13xbsULqeV-"
      },
      "execution_count": null,
      "outputs": []
    }
  ]
}